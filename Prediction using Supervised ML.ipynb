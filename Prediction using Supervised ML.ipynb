{
  "nbformat": 4,
  "nbformat_minor": 0,
  "metadata": {
    "colab": {
      "provenance": [],
      "collapsed_sections": []
    },
    "kernelspec": {
      "name": "python3",
      "display_name": "Python 3"
    }
  },
  "cells": [
    {
      "metadata": {
        "id": "GzfdMfk10NE6"
      },
      "cell_type": "markdown",
      "source": [
        "## **Linear Regression with Python Scikit Learn**\n",
        "In this section we will see how the Python Scikit-Learn library for machine learning can be used to implement regression functions. We will start with simple linear regression involving two variables.\n",
        "\n",
        "### **Simple Linear Regression**\n",
        "In this regression task we will predict the percentage of marks that a student is expected to score based upon the number of hours they studied. This is a simple linear regression task as it involves just two variables."
      ]
    },
    {
      "metadata": {
        "id": "V9QN2ZxC38pB"
      },
      "cell_type": "code",
      "source": [
        "# Importing all libraries required in this notebook\n",
        "import pandas as pd\n",
        "import numpy as np  \n",
        "import matplotlib.pyplot as plt  \n",
        "%matplotlib inline"
      ],
      "execution_count": 32,
      "outputs": []
    },
    {
      "metadata": {
        "id": "LtU4YMEhqm9m",
        "outputId": "177893ef-06a5-459f-f716-42c03b938b66",
        "colab": {
          "base_uri": "https://localhost:8080/",
          "height": 381
        }
      },
      "cell_type": "code",
      "source": [
        "# Reading data from remote link\n",
        "url = \"http://bit.ly/w-data\"\n",
        "s_data = pd.read_csv(url)\n",
        "print(\"Data imported successfully\")\n",
        "\n",
        "s_data.head(10)"
      ],
      "execution_count": 33,
      "outputs": [
        {
          "output_type": "stream",
          "name": "stdout",
          "text": [
            "Data imported successfully\n"
          ]
        },
        {
          "output_type": "execute_result",
          "data": {
            "text/plain": [
              "   Hours  Scores\n",
              "0    2.5      21\n",
              "1    5.1      47\n",
              "2    3.2      27\n",
              "3    8.5      75\n",
              "4    3.5      30\n",
              "5    1.5      20\n",
              "6    9.2      88\n",
              "7    5.5      60\n",
              "8    8.3      81\n",
              "9    2.7      25"
            ],
            "text/html": [
              "\n",
              "  <div id=\"df-ba28cf83-d8ff-41ab-a9fc-318bb3ba1f0e\">\n",
              "    <div class=\"colab-df-container\">\n",
              "      <div>\n",
              "<style scoped>\n",
              "    .dataframe tbody tr th:only-of-type {\n",
              "        vertical-align: middle;\n",
              "    }\n",
              "\n",
              "    .dataframe tbody tr th {\n",
              "        vertical-align: top;\n",
              "    }\n",
              "\n",
              "    .dataframe thead th {\n",
              "        text-align: right;\n",
              "    }\n",
              "</style>\n",
              "<table border=\"1\" class=\"dataframe\">\n",
              "  <thead>\n",
              "    <tr style=\"text-align: right;\">\n",
              "      <th></th>\n",
              "      <th>Hours</th>\n",
              "      <th>Scores</th>\n",
              "    </tr>\n",
              "  </thead>\n",
              "  <tbody>\n",
              "    <tr>\n",
              "      <th>0</th>\n",
              "      <td>2.5</td>\n",
              "      <td>21</td>\n",
              "    </tr>\n",
              "    <tr>\n",
              "      <th>1</th>\n",
              "      <td>5.1</td>\n",
              "      <td>47</td>\n",
              "    </tr>\n",
              "    <tr>\n",
              "      <th>2</th>\n",
              "      <td>3.2</td>\n",
              "      <td>27</td>\n",
              "    </tr>\n",
              "    <tr>\n",
              "      <th>3</th>\n",
              "      <td>8.5</td>\n",
              "      <td>75</td>\n",
              "    </tr>\n",
              "    <tr>\n",
              "      <th>4</th>\n",
              "      <td>3.5</td>\n",
              "      <td>30</td>\n",
              "    </tr>\n",
              "    <tr>\n",
              "      <th>5</th>\n",
              "      <td>1.5</td>\n",
              "      <td>20</td>\n",
              "    </tr>\n",
              "    <tr>\n",
              "      <th>6</th>\n",
              "      <td>9.2</td>\n",
              "      <td>88</td>\n",
              "    </tr>\n",
              "    <tr>\n",
              "      <th>7</th>\n",
              "      <td>5.5</td>\n",
              "      <td>60</td>\n",
              "    </tr>\n",
              "    <tr>\n",
              "      <th>8</th>\n",
              "      <td>8.3</td>\n",
              "      <td>81</td>\n",
              "    </tr>\n",
              "    <tr>\n",
              "      <th>9</th>\n",
              "      <td>2.7</td>\n",
              "      <td>25</td>\n",
              "    </tr>\n",
              "  </tbody>\n",
              "</table>\n",
              "</div>\n",
              "      <button class=\"colab-df-convert\" onclick=\"convertToInteractive('df-ba28cf83-d8ff-41ab-a9fc-318bb3ba1f0e')\"\n",
              "              title=\"Convert this dataframe to an interactive table.\"\n",
              "              style=\"display:none;\">\n",
              "        \n",
              "  <svg xmlns=\"http://www.w3.org/2000/svg\" height=\"24px\"viewBox=\"0 0 24 24\"\n",
              "       width=\"24px\">\n",
              "    <path d=\"M0 0h24v24H0V0z\" fill=\"none\"/>\n",
              "    <path d=\"M18.56 5.44l.94 2.06.94-2.06 2.06-.94-2.06-.94-.94-2.06-.94 2.06-2.06.94zm-11 1L8.5 8.5l.94-2.06 2.06-.94-2.06-.94L8.5 2.5l-.94 2.06-2.06.94zm10 10l.94 2.06.94-2.06 2.06-.94-2.06-.94-.94-2.06-.94 2.06-2.06.94z\"/><path d=\"M17.41 7.96l-1.37-1.37c-.4-.4-.92-.59-1.43-.59-.52 0-1.04.2-1.43.59L10.3 9.45l-7.72 7.72c-.78.78-.78 2.05 0 2.83L4 21.41c.39.39.9.59 1.41.59.51 0 1.02-.2 1.41-.59l7.78-7.78 2.81-2.81c.8-.78.8-2.07 0-2.86zM5.41 20L4 18.59l7.72-7.72 1.47 1.35L5.41 20z\"/>\n",
              "  </svg>\n",
              "      </button>\n",
              "      \n",
              "  <style>\n",
              "    .colab-df-container {\n",
              "      display:flex;\n",
              "      flex-wrap:wrap;\n",
              "      gap: 12px;\n",
              "    }\n",
              "\n",
              "    .colab-df-convert {\n",
              "      background-color: #E8F0FE;\n",
              "      border: none;\n",
              "      border-radius: 50%;\n",
              "      cursor: pointer;\n",
              "      display: none;\n",
              "      fill: #1967D2;\n",
              "      height: 32px;\n",
              "      padding: 0 0 0 0;\n",
              "      width: 32px;\n",
              "    }\n",
              "\n",
              "    .colab-df-convert:hover {\n",
              "      background-color: #E2EBFA;\n",
              "      box-shadow: 0px 1px 2px rgba(60, 64, 67, 0.3), 0px 1px 3px 1px rgba(60, 64, 67, 0.15);\n",
              "      fill: #174EA6;\n",
              "    }\n",
              "\n",
              "    [theme=dark] .colab-df-convert {\n",
              "      background-color: #3B4455;\n",
              "      fill: #D2E3FC;\n",
              "    }\n",
              "\n",
              "    [theme=dark] .colab-df-convert:hover {\n",
              "      background-color: #434B5C;\n",
              "      box-shadow: 0px 1px 3px 1px rgba(0, 0, 0, 0.15);\n",
              "      filter: drop-shadow(0px 1px 2px rgba(0, 0, 0, 0.3));\n",
              "      fill: #FFFFFF;\n",
              "    }\n",
              "  </style>\n",
              "\n",
              "      <script>\n",
              "        const buttonEl =\n",
              "          document.querySelector('#df-ba28cf83-d8ff-41ab-a9fc-318bb3ba1f0e button.colab-df-convert');\n",
              "        buttonEl.style.display =\n",
              "          google.colab.kernel.accessAllowed ? 'block' : 'none';\n",
              "\n",
              "        async function convertToInteractive(key) {\n",
              "          const element = document.querySelector('#df-ba28cf83-d8ff-41ab-a9fc-318bb3ba1f0e');\n",
              "          const dataTable =\n",
              "            await google.colab.kernel.invokeFunction('convertToInteractive',\n",
              "                                                     [key], {});\n",
              "          if (!dataTable) return;\n",
              "\n",
              "          const docLinkHtml = 'Like what you see? Visit the ' +\n",
              "            '<a target=\"_blank\" href=https://colab.research.google.com/notebooks/data_table.ipynb>data table notebook</a>'\n",
              "            + ' to learn more about interactive tables.';\n",
              "          element.innerHTML = '';\n",
              "          dataTable['output_type'] = 'display_data';\n",
              "          await google.colab.output.renderOutput(dataTable, element);\n",
              "          const docLink = document.createElement('div');\n",
              "          docLink.innerHTML = docLinkHtml;\n",
              "          element.appendChild(docLink);\n",
              "        }\n",
              "      </script>\n",
              "    </div>\n",
              "  </div>\n",
              "  "
            ]
          },
          "metadata": {},
          "execution_count": 33
        }
      ]
    },
    {
      "cell_type": "code",
      "source": [
        "s_data.describe()"
      ],
      "metadata": {
        "id": "c73j9W-x8xD_",
        "outputId": "fd3ca99b-1c5b-4a31-eb51-776d9e5b77f3",
        "colab": {
          "base_uri": "https://localhost:8080/",
          "height": 300
        }
      },
      "execution_count": 34,
      "outputs": [
        {
          "output_type": "execute_result",
          "data": {
            "text/plain": [
              "           Hours     Scores\n",
              "count  25.000000  25.000000\n",
              "mean    5.012000  51.480000\n",
              "std     2.525094  25.286887\n",
              "min     1.100000  17.000000\n",
              "25%     2.700000  30.000000\n",
              "50%     4.800000  47.000000\n",
              "75%     7.400000  75.000000\n",
              "max     9.200000  95.000000"
            ],
            "text/html": [
              "\n",
              "  <div id=\"df-6214342e-604a-45db-a40b-d4e9fedecedd\">\n",
              "    <div class=\"colab-df-container\">\n",
              "      <div>\n",
              "<style scoped>\n",
              "    .dataframe tbody tr th:only-of-type {\n",
              "        vertical-align: middle;\n",
              "    }\n",
              "\n",
              "    .dataframe tbody tr th {\n",
              "        vertical-align: top;\n",
              "    }\n",
              "\n",
              "    .dataframe thead th {\n",
              "        text-align: right;\n",
              "    }\n",
              "</style>\n",
              "<table border=\"1\" class=\"dataframe\">\n",
              "  <thead>\n",
              "    <tr style=\"text-align: right;\">\n",
              "      <th></th>\n",
              "      <th>Hours</th>\n",
              "      <th>Scores</th>\n",
              "    </tr>\n",
              "  </thead>\n",
              "  <tbody>\n",
              "    <tr>\n",
              "      <th>count</th>\n",
              "      <td>25.000000</td>\n",
              "      <td>25.000000</td>\n",
              "    </tr>\n",
              "    <tr>\n",
              "      <th>mean</th>\n",
              "      <td>5.012000</td>\n",
              "      <td>51.480000</td>\n",
              "    </tr>\n",
              "    <tr>\n",
              "      <th>std</th>\n",
              "      <td>2.525094</td>\n",
              "      <td>25.286887</td>\n",
              "    </tr>\n",
              "    <tr>\n",
              "      <th>min</th>\n",
              "      <td>1.100000</td>\n",
              "      <td>17.000000</td>\n",
              "    </tr>\n",
              "    <tr>\n",
              "      <th>25%</th>\n",
              "      <td>2.700000</td>\n",
              "      <td>30.000000</td>\n",
              "    </tr>\n",
              "    <tr>\n",
              "      <th>50%</th>\n",
              "      <td>4.800000</td>\n",
              "      <td>47.000000</td>\n",
              "    </tr>\n",
              "    <tr>\n",
              "      <th>75%</th>\n",
              "      <td>7.400000</td>\n",
              "      <td>75.000000</td>\n",
              "    </tr>\n",
              "    <tr>\n",
              "      <th>max</th>\n",
              "      <td>9.200000</td>\n",
              "      <td>95.000000</td>\n",
              "    </tr>\n",
              "  </tbody>\n",
              "</table>\n",
              "</div>\n",
              "      <button class=\"colab-df-convert\" onclick=\"convertToInteractive('df-6214342e-604a-45db-a40b-d4e9fedecedd')\"\n",
              "              title=\"Convert this dataframe to an interactive table.\"\n",
              "              style=\"display:none;\">\n",
              "        \n",
              "  <svg xmlns=\"http://www.w3.org/2000/svg\" height=\"24px\"viewBox=\"0 0 24 24\"\n",
              "       width=\"24px\">\n",
              "    <path d=\"M0 0h24v24H0V0z\" fill=\"none\"/>\n",
              "    <path d=\"M18.56 5.44l.94 2.06.94-2.06 2.06-.94-2.06-.94-.94-2.06-.94 2.06-2.06.94zm-11 1L8.5 8.5l.94-2.06 2.06-.94-2.06-.94L8.5 2.5l-.94 2.06-2.06.94zm10 10l.94 2.06.94-2.06 2.06-.94-2.06-.94-.94-2.06-.94 2.06-2.06.94z\"/><path d=\"M17.41 7.96l-1.37-1.37c-.4-.4-.92-.59-1.43-.59-.52 0-1.04.2-1.43.59L10.3 9.45l-7.72 7.72c-.78.78-.78 2.05 0 2.83L4 21.41c.39.39.9.59 1.41.59.51 0 1.02-.2 1.41-.59l7.78-7.78 2.81-2.81c.8-.78.8-2.07 0-2.86zM5.41 20L4 18.59l7.72-7.72 1.47 1.35L5.41 20z\"/>\n",
              "  </svg>\n",
              "      </button>\n",
              "      \n",
              "  <style>\n",
              "    .colab-df-container {\n",
              "      display:flex;\n",
              "      flex-wrap:wrap;\n",
              "      gap: 12px;\n",
              "    }\n",
              "\n",
              "    .colab-df-convert {\n",
              "      background-color: #E8F0FE;\n",
              "      border: none;\n",
              "      border-radius: 50%;\n",
              "      cursor: pointer;\n",
              "      display: none;\n",
              "      fill: #1967D2;\n",
              "      height: 32px;\n",
              "      padding: 0 0 0 0;\n",
              "      width: 32px;\n",
              "    }\n",
              "\n",
              "    .colab-df-convert:hover {\n",
              "      background-color: #E2EBFA;\n",
              "      box-shadow: 0px 1px 2px rgba(60, 64, 67, 0.3), 0px 1px 3px 1px rgba(60, 64, 67, 0.15);\n",
              "      fill: #174EA6;\n",
              "    }\n",
              "\n",
              "    [theme=dark] .colab-df-convert {\n",
              "      background-color: #3B4455;\n",
              "      fill: #D2E3FC;\n",
              "    }\n",
              "\n",
              "    [theme=dark] .colab-df-convert:hover {\n",
              "      background-color: #434B5C;\n",
              "      box-shadow: 0px 1px 3px 1px rgba(0, 0, 0, 0.15);\n",
              "      filter: drop-shadow(0px 1px 2px rgba(0, 0, 0, 0.3));\n",
              "      fill: #FFFFFF;\n",
              "    }\n",
              "  </style>\n",
              "\n",
              "      <script>\n",
              "        const buttonEl =\n",
              "          document.querySelector('#df-6214342e-604a-45db-a40b-d4e9fedecedd button.colab-df-convert');\n",
              "        buttonEl.style.display =\n",
              "          google.colab.kernel.accessAllowed ? 'block' : 'none';\n",
              "\n",
              "        async function convertToInteractive(key) {\n",
              "          const element = document.querySelector('#df-6214342e-604a-45db-a40b-d4e9fedecedd');\n",
              "          const dataTable =\n",
              "            await google.colab.kernel.invokeFunction('convertToInteractive',\n",
              "                                                     [key], {});\n",
              "          if (!dataTable) return;\n",
              "\n",
              "          const docLinkHtml = 'Like what you see? Visit the ' +\n",
              "            '<a target=\"_blank\" href=https://colab.research.google.com/notebooks/data_table.ipynb>data table notebook</a>'\n",
              "            + ' to learn more about interactive tables.';\n",
              "          element.innerHTML = '';\n",
              "          dataTable['output_type'] = 'display_data';\n",
              "          await google.colab.output.renderOutput(dataTable, element);\n",
              "          const docLink = document.createElement('div');\n",
              "          docLink.innerHTML = docLinkHtml;\n",
              "          element.appendChild(docLink);\n",
              "        }\n",
              "      </script>\n",
              "    </div>\n",
              "  </div>\n",
              "  "
            ]
          },
          "metadata": {},
          "execution_count": 34
        }
      ]
    },
    {
      "metadata": {
        "id": "RHsPneuM4NgB"
      },
      "cell_type": "markdown",
      "source": [
        "Let's plot our data points on 2-D graph to eyeball our dataset and see if we can manually find any relationship between the data. We can create the plot with the following script:"
      ]
    },
    {
      "metadata": {
        "id": "qxYBZkhAqpn9",
        "outputId": "0b0a837a-bf31-48a7-907a-4b7844d8ec72",
        "colab": {
          "base_uri": "https://localhost:8080/",
          "height": 295
        }
      },
      "cell_type": "code",
      "source": [
        "# Plotting the distribution of scores\n",
        "s_data.plot(x='Hours', y='Scores', style='o')  \n",
        "plt.title('Hours vs Percentage')  \n",
        "plt.xlabel('Hours Studied')  \n",
        "plt.ylabel('Percentage Score')  \n",
        "plt.show()"
      ],
      "execution_count": 35,
      "outputs": [
        {
          "output_type": "display_data",
          "data": {
            "text/plain": [
              "<Figure size 432x288 with 1 Axes>"
            ],
            "image/png": "[encoded data removed]"
          },
          "metadata": {
            "needs_background": "light"
          }
        }
      ]
    },
    {
      "metadata": {
        "id": "fiQaULio4Rzr"
      },
      "cell_type": "markdown",
      "source": [
        "**From the graph above, we can clearly see that there is a positive linear relation between the number of hours studied and percentage of score.**"
      ]
    },
    {
      "metadata": {
        "id": "WWtEr64M4jdz"
      },
      "cell_type": "markdown",
      "source": [
        "### **Preparing the data**\n",
        "\n",
        "The next step is to divide the data into \"attributes\" (inputs) and \"labels\" (outputs)."
      ]
    },
    {
      "metadata": {
        "id": "LiJ5210e4tNX"
      },
      "cell_type": "code",
      "source": [
        "X = s_data.iloc[:, :-1].values  \n",
        "y = s_data.iloc[:, 1].values  "
      ],
      "execution_count": 36,
      "outputs": []
    },
    {
      "metadata": {
        "id": "Riz-ZiZ34fO4"
      },
      "cell_type": "markdown",
      "source": [
        "Now that we have our attributes and labels, the next step is to split this data into training and test sets. We'll do this by using Scikit-Learn's built-in train_test_split() method:"
      ]
    },
    {
      "metadata": {
        "id": "udFYso1M4BNw"
      },
      "cell_type": "code",
      "source": [
        "from sklearn.model_selection import train_test_split  \n",
        "X_train, X_test, y_train, y_test = train_test_split(X, y, \n",
        "                            test_size=0.2, random_state=0) "
      ],
      "execution_count": 37,
      "outputs": []
    },
    {
      "metadata": {
        "id": "a6WXptFU5CkC"
      },
      "cell_type": "markdown",
      "source": [
        "### **Training the Algorithm**\n",
        "We have split our data into training and testing sets, and now is finally the time to train our algorithm. "
      ]
    },
    {
      "metadata": {
        "id": "qddCuaS84fpK",
        "outputId": "cc9ad064-1cb8-4277-ad9e-855e30745644",
        "colab": {
          "base_uri": "https://localhost:8080/"
        }
      },
      "cell_type": "code",
      "source": [
        "from sklearn.linear_model import LinearRegression  \n",
        "regressor = LinearRegression()  \n",
        "regressor.fit(X_train, y_train) \n",
        "\n",
        "print(\"Training complete.\")"
      ],
      "execution_count": 38,
      "outputs": [
        {
          "output_type": "stream",
          "name": "stdout",
          "text": [
            "Training complete.\n"
          ]
        }
      ]
    },
    {
      "cell_type": "code",
      "source": [
        "regressor.coef_"
      ],
      "metadata": {
        "id": "ypZyLJaM62SD",
        "outputId": "6079a2cc-dc67-43c0-c7cd-9c6feb194c4b",
        "colab": {
          "base_uri": "https://localhost:8080/"
        }
      },
      "execution_count": 39,
      "outputs": [
        {
          "output_type": "execute_result",
          "data": {
            "text/plain": [
              "array([9.91065648])"
            ]
          },
          "metadata": {},
          "execution_count": 39
        }
      ]
    },
    {
      "cell_type": "code",
      "source": [
        "regressor.intercept_"
      ],
      "metadata": {
        "id": "ALjTW95X6_X1",
        "outputId": "b40e8e8e-87b0-4671-fd62-430d8718801b",
        "colab": {
          "base_uri": "https://localhost:8080/"
        }
      },
      "execution_count": 40,
      "outputs": [
        {
          "output_type": "execute_result",
          "data": {
            "text/plain": [
              "2.018160041434662"
            ]
          },
          "metadata": {},
          "execution_count": 40
        }
      ]
    },
    {
      "metadata": {
        "id": "J61NX2_2-px7",
        "outputId": "e194c996-3e2a-4d88-a52f-f1168c5b0258",
        "colab": {
          "base_uri": "https://localhost:8080/",
          "height": 265
        }
      },
      "cell_type": "code",
      "source": [
        "# Plotting the regression line\n",
        "line = regressor.coef_*X+regressor.intercept_\n",
        "# Plotting for the test data\n",
        "plt.scatter(X, y)\n",
        "plt.plot(X, line ,color='red');\n",
        "plt.show()"
      ],
      "execution_count": 41,
      "outputs": [
        {
          "output_type": "display_data",
          "data": {
            "text/plain": [
              "<Figure size 432x288 with 1 Axes>"
            ],
            "image/png": "[encoded data removed]"
          },
          "metadata": {
            "needs_background": "light"
          }
        }
      ]
    },
    {
      "metadata": {
        "id": "JCQn-g4m5OK2"
      },
      "cell_type": "markdown",
      "source": [
        "### **Making Predictions**\n",
        "Now that we have trained our algorithm, it's time to make some predictions."
      ]
    },
    {
      "metadata": {
        "id": "Tt-Fmzu55EGM",
        "outputId": "3217c18d-5fac-4c30-b531-f43dc3286d7b",
        "colab": {
          "base_uri": "https://localhost:8080/"
        }
      },
      "cell_type": "code",
      "source": [
        "print(X_test) # Testing data  In Hours\n",
        "y_pred = regressor.predict(X_test) # Predicting the scores"
      ],
      "execution_count": 42,
      "outputs": [
        {
          "output_type": "stream",
          "name": "stdout",
          "text": [
            "[[1.5]\n",
            " [3.2]\n",
            " [7.4]\n",
            " [2.5]\n",
            " [5.9]]\n"
          ]
        }
      ]
    },
    {
      "metadata": {
        "id": "6bmZUMZh5QLb",
        "outputId": "fa0d85c7-d482-447b-d613-c90bb4a92a40",
        "colab": {
          "base_uri": "https://localhost:8080/",
          "height": 206
        }
      },
      "cell_type": "code",
      "source": [
        "# Comparing Actual vs Predicted\n",
        "df = pd.DataFrame({'Actual': y_test, 'Predicted': y_pred})  \n",
        "df "
      ],
      "execution_count": 43,
      "outputs": [
        {
          "output_type": "execute_result",
          "data": {
            "text/plain": [
              "   Actual  Predicted\n",
              "0      20  16.884145\n",
              "1      27  33.732261\n",
              "2      69  75.357018\n",
              "3      30  26.794801\n",
              "4      62  60.491033"
            ],
            "text/html": [
              "\n",
              "  <div id=\"df-23f24d57-be0d-4a64-b83b-7ceb668e220e\">\n",
              "    <div class=\"colab-df-container\">\n",
              "      <div>\n",
              "<style scoped>\n",
              "    .dataframe tbody tr th:only-of-type {\n",
              "        vertical-align: middle;\n",
              "    }\n",
              "\n",
              "    .dataframe tbody tr th {\n",
              "        vertical-align: top;\n",
              "    }\n",
              "\n",
              "    .dataframe thead th {\n",
              "        text-align: right;\n",
              "    }\n",
              "</style>\n",
              "<table border=\"1\" class=\"dataframe\">\n",
              "  <thead>\n",
              "    <tr style=\"text-align: right;\">\n",
              "      <th></th>\n",
              "      <th>Actual</th>\n",
              "      <th>Predicted</th>\n",
              "    </tr>\n",
              "  </thead>\n",
              "  <tbody>\n",
              "    <tr>\n",
              "      <th>0</th>\n",
              "      <td>20</td>\n",
              "      <td>16.884145</td>\n",
              "    </tr>\n",
              "    <tr>\n",
              "      <th>1</th>\n",
              "      <td>27</td>\n",
              "      <td>33.732261</td>\n",
              "    </tr>\n",
              "    <tr>\n",
              "      <th>2</th>\n",
              "      <td>69</td>\n",
              "      <td>75.357018</td>\n",
              "    </tr>\n",
              "    <tr>\n",
              "      <th>3</th>\n",
              "      <td>30</td>\n",
              "      <td>26.794801</td>\n",
              "    </tr>\n",
              "    <tr>\n",
              "      <th>4</th>\n",
              "      <td>62</td>\n",
              "      <td>60.491033</td>\n",
              "    </tr>\n",
              "  </tbody>\n",
              "</table>\n",
              "</div>\n",
              "      <button class=\"colab-df-convert\" onclick=\"convertToInteractive('df-23f24d57-be0d-4a64-b83b-7ceb668e220e')\"\n",
              "              title=\"Convert this dataframe to an interactive table.\"\n",
              "              style=\"display:none;\">\n",
              "        \n",
              "  <svg xmlns=\"http://www.w3.org/2000/svg\" height=\"24px\"viewBox=\"0 0 24 24\"\n",
              "       width=\"24px\">\n",
              "    <path d=\"M0 0h24v24H0V0z\" fill=\"none\"/>\n",
              "    <path d=\"M18.56 5.44l.94 2.06.94-2.06 2.06-.94-2.06-.94-.94-2.06-.94 2.06-2.06.94zm-11 1L8.5 8.5l.94-2.06 2.06-.94-2.06-.94L8.5 2.5l-.94 2.06-2.06.94zm10 10l.94 2.06.94-2.06 2.06-.94-2.06-.94-.94-2.06-.94 2.06-2.06.94z\"/><path d=\"M17.41 7.96l-1.37-1.37c-.4-.4-.92-.59-1.43-.59-.52 0-1.04.2-1.43.59L10.3 9.45l-7.72 7.72c-.78.78-.78 2.05 0 2.83L4 21.41c.39.39.9.59 1.41.59.51 0 1.02-.2 1.41-.59l7.78-7.78 2.81-2.81c.8-.78.8-2.07 0-2.86zM5.41 20L4 18.59l7.72-7.72 1.47 1.35L5.41 20z\"/>\n",
              "  </svg>\n",
              "      </button>\n",
              "      \n",
              "  <style>\n",
              "    .colab-df-container {\n",
              "      display:flex;\n",
              "      flex-wrap:wrap;\n",
              "      gap: 12px;\n",
              "    }\n",
              "\n",
              "    .colab-df-convert {\n",
              "      background-color: #E8F0FE;\n",
              "      border: none;\n",
              "      border-radius: 50%;\n",
              "      cursor: pointer;\n",
              "      display: none;\n",
              "      fill: #1967D2;\n",
              "      height: 32px;\n",
              "      padding: 0 0 0 0;\n",
              "      width: 32px;\n",
              "    }\n",
              "\n",
              "    .colab-df-convert:hover {\n",
              "      background-color: #E2EBFA;\n",
              "      box-shadow: 0px 1px 2px rgba(60, 64, 67, 0.3), 0px 1px 3px 1px rgba(60, 64, 67, 0.15);\n",
              "      fill: #174EA6;\n",
              "    }\n",
              "\n",
              "    [theme=dark] .colab-df-convert {\n",
              "      background-color: #3B4455;\n",
              "      fill: #D2E3FC;\n",
              "    }\n",
              "\n",
              "    [theme=dark] .colab-df-convert:hover {\n",
              "      background-color: #434B5C;\n",
              "      box-shadow: 0px 1px 3px 1px rgba(0, 0, 0, 0.15);\n",
              "      filter: drop-shadow(0px 1px 2px rgba(0, 0, 0, 0.3));\n",
              "      fill: #FFFFFF;\n",
              "    }\n",
              "  </style>\n",
              "\n",
              "      <script>\n",
              "        const buttonEl =\n",
              "          document.querySelector('#df-23f24d57-be0d-4a64-b83b-7ceb668e220e button.colab-df-convert');\n",
              "        buttonEl.style.display =\n",
              "          google.colab.kernel.accessAllowed ? 'block' : 'none';\n",
              "\n",
              "        async function convertToInteractive(key) {\n",
              "          const element = document.querySelector('#df-23f24d57-be0d-4a64-b83b-7ceb668e220e');\n",
              "          const dataTable =\n",
              "            await google.colab.kernel.invokeFunction('convertToInteractive',\n",
              "                                                     [key], {});\n",
              "          if (!dataTable) return;\n",
              "\n",
              "          const docLinkHtml = 'Like what you see? Visit the ' +\n",
              "            '<a target=\"_blank\" href=https://colab.research.google.com/notebooks/data_table.ipynb>data table notebook</a>'\n",
              "            + ' to learn more about interactive tables.';\n",
              "          element.innerHTML = '';\n",
              "          dataTable['output_type'] = 'display_data';\n",
              "          await google.colab.output.renderOutput(dataTable, element);\n",
              "          const docLink = document.createElement('div');\n",
              "          docLink.innerHTML = docLinkHtml;\n",
              "          element.appendChild(docLink);\n",
              "        }\n",
              "      </script>\n",
              "    </div>\n",
              "  </div>\n",
              "  "
            ]
          },
          "metadata": {},
          "execution_count": 43
        }
      ]
    },
    {
      "metadata": {
        "id": "KAFO8zbx-AH1",
        "outputId": "ef3d9d2f-9935-4527-f70c-6e0af14630cc",
        "colab": {
          "base_uri": "https://localhost:8080/"
        }
      },
      "cell_type": "code",
      "source": [
        "# You can also test with your own data\n",
        "hours = [[9.25]]\n",
        "own_pred = regressor.predict(hours)\n",
        "print(\"No of Hours = {}\".format(hours))\n",
        "print(\"Predicted Score = {}\".format(own_pred[0]))"
      ],
      "execution_count": 44,
      "outputs": [
        {
          "output_type": "stream",
          "name": "stdout",
          "text": [
            "No of Hours = [[9.25]]\n",
            "Predicted Score = 93.69173248737539\n"
          ]
        }
      ]
    },
    {
      "metadata": {
        "id": "0AAsPVA_6KmK"
      },
      "cell_type": "markdown",
      "source": [
        "### **Evaluating the model**\n",
        "\n",
        "The final step is to evaluate the performance of algorithm. This step is particularly important to compare how well different algorithms perform on a particular dataset. For simplicity here, we have chosen the mean square error. There are many such metrics."
      ]
    },
    {
      "cell_type": "code",
      "source": [
        "    # TRAINING SCROE\n",
        "r2_train=regressor.score(X_train, y_train)\n",
        "  \n",
        "    # TESTING SCORE\n",
        "r2_test= regressor.score(X_test, y_test)\n",
        "    \n",
        "num_coeff_bigger = np.sum(abs(regressor.coef_) > 1.0)\n",
        "    \n",
        "print('\\nnum abs(coeff) > 1.0: {}, \\\n",
        "r-squared training: {:.2f}, r-squared test: {:.2f}\\n'\n",
        "         .format(num_coeff_bigger, r2_train, r2_test))"
      ],
      "metadata": {
        "id": "o0hIsHQ7ZcjT",
        "outputId": "03772320-9859-46fb-9830-3f5eccfec667",
        "colab": {
          "base_uri": "https://localhost:8080/"
        }
      },
      "execution_count": 45,
      "outputs": [
        {
          "output_type": "stream",
          "name": "stdout",
          "text": [
            "\n",
            "num abs(coeff) > 1.0: 1, r-squared training: 0.95, r-squared test: 0.95\n",
            "\n"
          ]
        }
      ]
    },
    {
      "metadata": {
        "id": "r5UOrRH-5VCQ",
        "outputId": "2a4f558d-4270-4599-f319-3754fa953f34",
        "colab": {
          "base_uri": "https://localhost:8080/"
        }
      },
      "cell_type": "code",
      "source": [
        "from sklearn import metrics  \n",
        "print('Mean Absolute Error:', \n",
        "      metrics.mean_absolute_error(y_test, y_pred)) "
      ],
      "execution_count": 46,
      "outputs": [
        {
          "output_type": "stream",
          "name": "stdout",
          "text": [
            "Mean Absolute Error: 4.183859899002982\n"
          ]
        }
      ]
    },
    {
      "cell_type": "code",
      "source": [
        "# Plot outputs\n",
        "plt.scatter(X_test, y_test, color=\"black\")\n",
        "plt.plot(X_test, y_pred, color=\"blue\", linewidth=3)\n",
        "\n",
        "plt.xticks(())\n",
        "plt.yticks(())\n",
        "\n",
        "plt.show()"
      ],
      "metadata": {
        "id": "ScT0tBfX4YWG",
        "outputId": "3183c3fe-fddc-44aa-d322-925bcdb748ee",
        "colab": {
          "base_uri": "https://localhost:8080/",
          "height": 252
        }
      },
      "execution_count": 47,
      "outputs": [
        {
          "output_type": "display_data",
          "data": {
            "text/plain": [
              "<Figure size 432x288 with 1 Axes>"
            ],
            "image/png": "[encoded data removed]"
          },
          "metadata": {}
        }
      ]
    },
    {
      "cell_type": "markdown",
      "source": [
        "### Lasso regression\n",
        "Lasso regression is a form of regularized linear regression that uses an **L1 regularization** penalty for training \n",
        "\n",
        "L1 penalty: Minimize the sum of the absolute values of the coefficients\n",
        "![lasso.PNG](data:image/png;base64,iVBORw0KGgoAAAANSUhEUgAAAlIAAABfCAYAAAAj3imEAAAAAXNSR0IArs4c6QAAAARnQU1BAACxjwv8YQUAAAAJcEhZcwAADsMAAA7DAcdvqGQAABxXSURBVHhe7Z1/bBzVtcf9L3+V/hDatqqoVVqUComkP5BXbUXjCrVxBS2WoiqRaBushxS5aYUMekL78iBhhRCyaBW5Twi5oa/UbkW1qZRi/gg11SPgqCCclqL0oT7WiJQ4v8ySBLqAk5x3z/0xOzN758d6Z2bXM9+PdJTs7A/vzpw593vPPffeAQIAAAAAAGsCQgoAAAAAYI1ASAEAAAAArBEIKQAAAACANQIhBQAAAACwRiCkAAAAAADWCIQUAAAAAMAagZACAAAAAFgjEFIAAAAAAGsEQgoAAEDPufzcc3R5fh4GS86eeUZ7V7pASAHQCcdnaHRggAakVWlBH2aWZ0f1cWF73c8AAIK4fPkyXbp0iS4PDdHlG26gS9/6FgzWtV3evJkub9igfEv4WJpASAHQKUeqjmCqHtHHNAt7xfGtM7SsHwMAwuGG7v3336eL3/wmvfPkk9RoNGCwru3cq6/SpcFBeu+996SPpQmEFAAdIjNPe6tUtWSeWEiNzkJGARAHzhSsrq7SO++8Q+/fdBOt1Gp04sQJWl5eppMnT8JgHRv7DvvQyb/8hS5++tN04cIF+uCDD1LNSkFIAdAhLJY4EyWzTwOjNHNcP0ELQly5HwMAwuDGjbNR586do/e+8Q06/cQT9Oabb8oG8fTp0wWxp+geUxLw70/JY6888m0n6/3tR17xvR4WZqdOnZJC6sRLL9Hq1VfL7FTaWSkIKQA6YplmtmqxpIf4nAyUrJ/y1k0BAIIxQurtt9+WQurs734nG0N+fP78eZlNyLX97y/oloH/pHnx//n/EMLp1l/QL8S/t+z/P/m8PKafb3svzGosys+ePSszUiykVlZWqNlsQkgB0Dd4xBKLKhHodE2UGvKDjAIgLn4h9daBAzKDwA0fD8fwsF9R7PB9KgO197nWseOP3yqO3Uq/WvK+FmY39hnOPrGYOvPyy3Jo76233oKQAqCv4CyUSyypmXoqQ4X6KAA6wy+kGkJIcSaKG0Ru+Pj5YtjzdD9nt2dOeI4/v4fF1f30vOsYLNxYUHHN3corr0BIAdCPtIklvRzC6OyCzE75Z/EBAILhhs8jpH7/ezk8k3ZxcN+h44g3fngz3iAaCCkA+h4V2KxLHogg6F9XCgAQDoSUwp3ZdtA1mOicxQdCCoB+R/YaLbPyzLpS6DkC0BEQUoq2GcA6Q4Way86AkAKgr+GlDYIyT/o5BD0AOgJCinHHlpYhE9U5EFIAAAAKBYSUwFofBdYChBQAAIBCASEVUB8F1gSEFAAAgEIBIeWerAIx1S0QUgAAAAoFhBRIEggpAHpI46lxKrkKPVM1FKUDIMmzkEJMyR4IKQB6SoPmdpZcwalE259IaDGD1QYtPrq9FVQR9ACQ5FlIIaZkD4QUAL3mwgJVh0zQE1baTjNL+rmuadL83TqoIugBIMm3kBIgpmQKhBQAfUDzSJXKJuixbZ2hun6ua45O0iYEPQAcci+kBIgp2QEhBUCfUH90pBX0hJUfXtTPdMsCVRD0AHAogpBiEFOyAUIKgL6hTjO3uWsbylQ90tTPdYPehBRBDwBJUYQUYko2QEgB0E+cmaPxkgl6woaqtHBBPwcASITiCCkBYkrqQEgB0Gf4axtKd89TEn1IAICiUEJKgJiSLhBSAPQdTVrYW3aCXqLTlwEAhRNSiCnpAiEFQF9Sp+ktJugJS3T6MgDFpnhCikFMSQsIKQD6laUZ2u6ubUhy+jIABUFtzuu6jwaq9HwhhZQAMSUVIKQA6GOWn3CtIiwsuenLAOQfszFv9Yg+QAtUlffS/fQ/RRRSAsSU5IGQAqCvadLC7k1O0Etu+nJnnDp1imZmZvQjAHrLL3/5S1pZWdGPgpFCyjdFX4mrUfrvejGFVL/ElDwBIQVi0Thao+qOMk0cbOgjGbI0Q6POTT9M0//Qx9tYpKktIzS+b56W8xQX/Ns9ZDh9+dy5c3THHXdQqVSi+++/Xx/NJz318ZxT/5VreO2m6cDhpMbBCSrvqFLtaPg12L17N1111VV05513ysaqE5SQKm5GStLDmOJwXMX10dnsi96VD4jfrB93y7oUUu1j3i0bHBoVDekc1UOcYvnIjAiYw7TBGSsu0YbN4n27p2nhjH6Rm0ad5vaN0+jQYOtvXVOm4R0TNHWwnu9ppKt1qu0qU2nzBM1EBLdUaczROJ/3jZNCLoXQXKb5h0ZpsDRCky/mqEE8Opn59GUOAl/5yleoXC7T2bNn9dEc0i8+nnMaB8el726KGEpqHJ2hic0lKu+qUX1VH7Rw4sQJuv766+nmm2/WR+Kgh/b2PF/MGik3PYgpHiCkuqbrjNSxfcPKAdwXv9mgxdlx5RxDtga3SQsPDFNpoEzjs4vUMG88s0hTvErrwDjN+ePoUo3GrhFOdnOV5pfMG5q0LHpOvNdQVFBY36hVcUu3TdOxni/gprYkKMVcSbdxqCL8IF8p6/qsu7ahRNtn0y0T3bZtG33qU5+iRiPP4qKffDznHK5Iv23VK4Vw4RhNy+sSXgx98uRJ+tjHPiYzU9Ho1bi3ztAJ0fAVXkgJso4pHiCkuqZrIWWyUu1rYTRobqdyiuqL+pBBb7Q48mi7s8jekrjBvJ/WoNoO8VmlCZpvC7KLNLkxZlBYlzRp8YGy+O1CXNqydFnzj2kaFtdu4lB8YbT4MH//7VQ7rg+se3zbPaQ4fblWq8m/8fjjj+sjeaTPfLxPkY1OW2zsnPqj3PkVsTTuLaxX5C4/sNjqLFv4+c9/Ln316aef1kdsaBGlG09u+NYupPK0PUp2MaUNCKmu6VpILezmE2Gvl1Enqb3RXXxAOUxs8bNco+3sXAkEkXWHEC4j4reP7M+whxICzzThAtGZTkRRc54qIhCX7snRKr4X5mnCPX15S3C9STd8/vOfp09+8pP6UU7pMx/vV5IRUstUu63zz6nv5013R0LqIhUf/vCH5RB0EP6GE0LKRUYxpQ0Iqa7pUkhxNkiciJLtRNRp+iY+Se0iywip2IHTCKlSJX4vKicsPsSzOuzCRYkaPsfKhn0ZvsWHzYwQd+/TTDtW1tmquk2av1u8TxepNg5P0fgWrlcr0YZtU7QYMiSzsJev+RjVcpRx8G/3ENVj75QXXnhBfu5dd92lj1hoLNL0zhEa5O9Q2kDb97m/g75e+vuVds1RPw4Ohvk4vVj1TBH3lBAITL2PN86YrIeyTeK6JEeTjs1O0Mg1/Nna750vVKe5u/W12FFL/FwnIqREp2ZCfD8VKxq0sG9c/ZY23/GhG9tND4Wfy9tvv12e83q9PbarRtN7nftGSDWOUW3vGA1fp9qmwS0TNKczQo0DY/JYed8xdSBF0o4pVqxCyt1OVNrad3PfeZIheqRJvmfzFMU5WxBSjL4AAzvbA3TzcEWe1JLtuWcqKjiWhqlyKE64aa0EO7ijSDUUwpm5h3JrUH2Cb/qsJ6CYoVU2XyP19yk5PDcwsIkmj+pjsVDCedPDC0KkjVHlKXXjNcT1lNc6LOMk6zI66PWIgOL8rg4s216VHpJy/n6Zqi8mF/buvfde+bl/+MMf9BEfzUXvjB9pJao84/oOq+I13NkRz8Wta8uWKB8Xd797pplPSLQ6C76gfkFPihA2diA5SeOtZVGmOoTeoRl/pyYJEhFSsrET9/1hcS//W4Xm5Ic1aF7GEZ/veBC/71bx962d5haPPfaY/P1TU1P6iEbfz/5RiOf3DNCeZ3sspNz1t/rk1vcLn5MZIZ0sEOc9+StqI92YYiUoI2UmFlk6Oapj3D7a5ExkiBDcBggpQfPQhDxp7gvQbNRpYf8EDYvgGCx6TLE5n8QSDd8ZPitEop1dOtc1ozSVp5lgQeh6pLBAYa6BNE9vXTdQ8jmfYDI9h057zXr5g+EtIzTmKYbUvRcRZANvHyO6s56RkjqigXFlP5IUciMjPJwyQK+++qo+4oUL+Ud2iAC/6v0OXsGkG4KORXNGxPBx5zVsnin73szTuHu5hLizSztBCNepm8doekndd46gum2aarx/2lCF5lPMuCYhpJQoHaYR8Ts8NTha6JRCsneq0Qtb9oTo2WeflZ/DmakW3uvktdEu1pFKQEiZ5Qf8yw7IeDVKkw+PUynzLVzSiylWgoSUc938QsrElPb3qPYoegjYACElMEN0fivvmKK5v0c30ctPVaTg4veUNvsc2UbjGE3vMEsfDNLYE9n0EXpGnCyOO3PjCrJO1k+buyeohlLiO7vBiLb26blaSIXeEPo1IZmHdcuLk7SBf1vCAfdzn/ucPN//+te/9JFgPEuRuM+xEbApDDUlQhwfN79BmsvHdG2V+d3uz1DDMaXoSRHckG4WcYw7Z0c7kPh6iMz87SyKg7sXUmao13JeTBwJESXGxyqH9QELr7/+unzNV7/6VX0kHG74ejm0JyfCiPPhEeESNTs5lg+lQUoxxUqgkDJCxzKEN1SWQ5D+2fKcqeqkFhZCSoRqVQPlqr/R+wdFTZX10NCBTFwU2zCgjfrsmKpDGCj3Zy87IUzgit3IOA2omuVYKrWErhMoYs7AsaGEs61H2oGQSvCm6Q/MkI4tGHcHL3TI1y4W7qyNq6ZBCQp7Nip+EAvLKIRZ9GfH8nHHd9hav012CISPmw5DK6iLHvMQx6FapOhoPuPK6HbUIOuibfneMk39TR8OImBoq530zjWfF5mlti3E2YGQCrtW58+fl6+59tpr9ZFw4gkp9/XvwCJFp/hcPh+22lsdV8vifGQvo9KLKVZChJQZOm/5Lbct/L1q6pq4/UW2LZZaxxDfh5AyqXOfs6psR9hYuwVntsJ2qkVFPk39UTXs4U9Fe3rmHVyg8AtqD25ex4jzGoVR+Y4FBK9YjYynZ6y+v6pPEw4928pWqc/QNVUbRWPUcZ2ZFs62IGxWPA9tuDoUUu5MWwcW3iAnj/HDNAIur8vDnx0P3UjK82CCmRYU1g6K9tcuh4q6JZ6QMp0212+TPreJqrPTrY6Evo/U8JV4XZye/FozUgJ3fVZYloZRv9PSyHSAjBvdXC8ttm31W6YOLWzySZxrxYKIXzM4OKiPhBNPSAWhfTggfkZiShxs94c8V5alezIgzZhiJURImWvu+IXMRvFwuR7ec8V8zu7Z9gsMa1shpHRK3p/ac4Z/Opop00o5x3Zc0wO3NN7q4nQQtJxG2/YeIwBazxnnaomkOK8RONkjt+Po91qCQZzA1frbbCyQVAGydGiXGOHroWaEbBJBfw23pxHOlu9pZrWEz8I03zO5m6bXODNsUtrW4dMiCPB55aAQjXtygfI75T/dNd5pE8/H3Z0U8XuWOBtUUgLRnZHlWKCz4qO/CvPFBBD32eTNrYxvGsXlfroVUtaZVhK9Tl/EcH+ca/XGG2/I12zcuFEfCaeXQsqcj/ZrJzqce1kkZ3/vpB1TrIQIKe/QO9dumaFOX0eMh9nX0EEvvJAyvbG2npgROG21MCrQ229CI6R8GSnZYwg4yfrvtAu2TnvaqoGv7mXRYblxtBjxBh9+j+u1cV5jvpfl96gAZfmdxolDGwVvIzO+s9zKOLkbmV1VJbDW2ssJrGUxMyqjljbQNQd5qZFy9shKb3j5a1/7mjznx47Fm3btnt02KvyZBYVt0du+IpaPm4CrbGznOJX43pIZJyPQhd1aoSoLrE5KC9aEGnopDZVVRoMtZllCN3QrpNSaf5YYx40g/4aIOjrjX2HZN1Nsfsstt+gj4fRSSAUKQynGWSRbdthIkwxiipUwIaWXH+GECQvPQSdxYdpsbrdYYK2tg15wIWVS7SaYuTFFev6Vc1Uq0DotUg/t+YcgVI/B3kCr9KfN4XRgjXlzyQvJr9XO1NZbkyLJEnzcxHiNuWnbe4PmOXuAk6I09Ld4MxFcD+M4tL8gNrCXY65nsEMb4ey/2czspcgG24i6XMza43OuahjS3Mph165d8pwfOHBAH4lAC3rHAhb0M77IZvPHTInl495hNLaW8HIP+wlLuzhX7wco76Uz7vtLxClxa3D95oj4LY6PuzszMWNSEN0JKT0U0xZnuEFkX46efKIavfBZe4888oj8rXv27NFHwumlkDIZKa+IF9f3oRotSNGYXAMfTTYxxUqYkDL+u6tClY3e9l75Q4Wm/muENu22dNBd8cj62YJCC6nGYbNo2LClyLLVsHvWbzGLagrxw+sPmZPeXJqnKqfILVOHzaxA3n9r0Tzn7OMnHG6/ZaPiIEFkwy2AAt9nerxhQinqNcHZKEY5k+294nO57iVkl3ZGvV+ZN+NkvhdbWKAM/36t51nsih6JXKqi6cy6LO+aC/1+jBnyDbqh1hNmLaG0Mx9//OMf5Tn78Y9/rI9E4NxjUddbvDQoC5o58XzcLf68573lm9wIpTbDytTTsDliTcS6XSpGtcyy7k8nMSkEeZ+vVUiZBlGco3FT79Jcprndes/Tg1GerAVrxDpSW7dulefh5Zdf1kfC6aWQojM1GuNzsmWKjnFM41nhd0/KzqbyN9G+/V2cpn/M0Ng9c+1tTYJkFVOsaN+wxmZXZ9zfWXbuybBhSC2mgny/uELKv9Kw5SQ5J5hXy314QYQbwZkFmn5ogsZuGqayWQ9K2ODQGE3sn9eNs5sm1Q9OUWXnKA1v3tD6m+IzR3ZOUu1v9pyr+tthosegRYa5CcOcyQlCrtf7CXuNec763nARE7rqs8bt0K1Vlhnz2VG9nLqz2J61sm11gSrXjdH0kQW5+q+5fnztJp+JF9Zzs7K5Kay37vuYPJ/5zGfk7Mt4mKyD8OM4Q2VdDBMlSRwfd3q3QsT492w0HYk0i3PVFinC57dUvR2+pTma0LOOB7eM07RtfTt3h60Lurpmhyu0Ycc0LRypUXVHWc96HqTyjklnEcpQdAwLW2iRBdAVV1xBN9xwgz4STU+FlKB+UK9Sz+3K3TOtdQ+P63ULuQ3bW0t3EeiMY0obYW2faSct2W2V0QvfkF61TcFCqbhCqs+Je2HaX6ccJixj4giWkBvX+hrdCIQ6atBn6vqFVGtddK8j7mq0HWOGbtf7XnvOSuLhwSNJfvvb30rfibVpsS60ju7VRvt6pmTh4z2kKwHUJ6hSivAsJ69mzr566NAhfSSa7oRUDuhBTGkjVEh1R5TvQ0j1JRGixODOHvkt4r1xLnzba0LSm0Z4Baf9098ZXxaRpjhLRC56Z8kkrC94Jg8v3jeQzf5XLrZt2yY3Ll5eDgl0QSs029D+3+1QU3Kk7+O9o/usSc+Jsfbca6+9Rh/96EfpRz/6kT4Sj2ILqd7FFA+pCanoDhuEVD8S4BAsVlrHdGBrU8n+gMdO0J6O9174OK8RBDmqEXSRvVU9S+i2FPYZXF2kyW3iu9pHSruGtzEp97K3lRBm78jMdmT38b3vfY8+/vGPy1lRCrVulKwJauip+DELrZV4736oKVlS9PFeklojlREXjtF0xEzIJ598kj7ykY/QHXfcoY/Ep8hCqtcxxSEtH9WfG9Zhg5DqQ6wNhO9iqgtna0R0NstcVCNy3D1J/xBdnNdITK1Su7iK7UR6tlBp8wTNBNSH9RWryzT/0CgNlkZocr3vi3i8JofMUp8RFsGDDz4ofUs2WKauwhif55gLSrqDF/+/bxr59ebjcXBno/n/62iIr/G3GVn/Vd4VvBfq97//ffn7eLbeWiiskOqTmCLRbVHScSBOhw1Cqt/QActu6kKZYTT3MYUROtpYGDlCx2sedR3nNQ6+vyFsLY7bOKqKRSee6ucMzyJNbRmh8X3ztLy+E1EClSmRBfshqz5nBQ/v/eY3v1F7cXEg7qRg2OC6V8J6i71iffh4XEwHTdg6Gt5rHJwQflWl2tFwQfvrX/+aVlZW9KPOKaaQ6q+YkpaQkiIpouMAIQVAATDbNVjXSQEAdEURhVQxYoruQGTceYCQAqDP6Ml2DQAUiKIJqaLElF7VYUJIAdBPpLRdg1lNuR+H1ADImkIJqQLEFDVUx9abySwQUgD0DWa7hoHIhS07RW110psgA0C/URwhhZiSBRBSAPQJ6W3XoFeQR9ADQFIUIYWYkg0QUgD0A852DSksDml22R+oJDZLBYD1TCGEFGJKZkBIAdBr0tyu4cyCWjRTBr3kpvsCsJ7JvZBCTMkUCCkAekpru4bUbeOkfXNoAApGvoUUYkrWQEgB0EOc7RqysHW0ujUAaZJnIYWYkj0QUgD0jPZV51O122oIegAI8iukEFN6AYQUAACAQpFfIQV6AYQUAACAQgEhBZIEQgqAjFlaWqIf/vCH9IMf/ID+9Kc/6aPZ8dhjj9F3vvMduu+++/QRAIpFnoRUr+OJgf+2iSuNRvim03kDQgqADOEAc+WVV0ox046ub8iggJO/Bwe97373u/oIAMUhL0IqPJ60yHIPOhZ0X//61/WjYgAhBUCG3HvvvXT11VfrR36S3rlcC7OAz+MeJBeMHj2a4AZcAKwD8iKkwuOJIekOmopTo7P2T2Nxx3Gll9mxrIGQAiBDfvKTn9CNN96oH6VHaxPP4IDHFC3gAcDkRUhlFU8U3hmBYZsV8/NRWbI8ASEFQIZwD3Ljxo36URqoYKeCXHjPkTNREFKgiORFSKUfTwwcS/TQ4HG19UyQkEJGCkIKgFThXhoHGT+tDFKSdQzhQur3ovGwfRcA8k5ehFRQPDGo2qjoDFJHRAgpUzLARfBFAUIKgAxh8fKhD31IP/IixVSihebhQsoEPACKRl6EVFg8MSReaB4hpEymmzNTRQFCCoCM4N7j9ddfL4NfOwGF4UeqMihFmT2ohQsphocGeIYNhvdAkciDkAqPJy2sHbRu4kqEkGLMkGNR4gqEFAAZwT01LgzlINNGjODUOeFCinuMLKL4+xQpDQ9AHoRUaDxxCJ+5uyZixCqOK1wIX5S4AiEFQIYEDqfJHmLS67xgaA8AG3kQUkzkPZxGBy3iM4sYVyCkAMiQn/70p9Ygo4rNq0L6+EhxaM8EvCLVMgDA5EVIBcUTh6AOWopDeyauFGl9OggpADKE0/Dt6764F8xzL1/QJTrgBaX1Oe3OAY8DHwBFIi9Cyh5PWgR20LpBi7Cw2kt+Pqp2K09ASAGQIUEL6LWmKXc/vOee8uw1b0At4novADB5EVLhC3ImWx/VWqLFZ5aZxnwcQgpCCoBU4FQ8743VD3Cg44CHQnNQNPIipELjic5Ih2WO0sBkujG0ByEFQGrwlGXerb2XtUkc7Hh6MvdoASgaeRFSTFA8SWVYLwKOKzxjjzcuLhIQUgD0AF4Dhusb+N+s4b/LhiE9UFTyJKSYVjz5mRrO4yG3jEUUZ7iLGlcgpAAAABQKt5B6f2iIzv/sZ3ThyBF6/6WX6NJf/wqDdWwfLC7Su3/+M70tBOXFT3wCQgoAAEB+MUKKh8POVyq0+tnP0uoXvkAXv/hFuvSlL0m7/OUvw2CxzPgM+9AH111H795+O62srEBIAQAAyCfujNSJEyfo+PHjtLy8TGfOnJENIGcTYLC4xj5z9uxZ6UPsS//85z8hpAAAAOQXFlJcD3X+/Hk6deqUbPjYuCE8efIkDNaxse+wDxlRLuvv3nsPQgoAAED+YCF18eJFmTHgBo8zUadPn5bG/4fB1mLGhzhL9e6778oCdPa1tICQAgAA0DO4geOGjrMG3OjxjCsYLAljgZ7FDFAIKQAAAD2FGzoeeuHsFBsLKxhsrWb8iH2KfQtCCgAAAACgLyH6fzuI7ubiuyPjAAAAAElFTkSuQmCC)"
      ],
      "metadata": {
        "id": "l7tjkmpHLMnN"
      }
    },
    {
      "cell_type": "markdown",
      "source": [
        "- The parameter alpha controls amount of L1 regularization (default = 1.0).\n",
        "- The prediction formula is the same as ordinary least-squares."
      ],
      "metadata": {
        "id": "IddUkHYXLd-W"
      }
    },
    {
      "cell_type": "code",
      "source": [
        "from sklearn.linear_model import Lasso\n",
        "print('Lasso regression: effect of alpha regularization\\n\\\n",
        "parameter on number of features kept in final model\\n')\n",
        "all_alphas = [1.0,5, 10, 15, 20,25, 30]\n",
        "all_r2_train = []\n",
        "all_r2_test = []\n",
        "for alpha in all_alphas:\n",
        "    linlasso = Lasso(alpha, max_iter = 10000).fit(X_train, y_train)\n",
        "    r2_train = linlasso.score(X_train, y_train)\n",
        "    r2_test = linlasso.score(X_test, y_test)\n",
        "    all_r2_train.append(r2_train)\n",
        "    all_r2_test.append(r2_test)\n",
        "    \n",
        "    print('Alpha = {:.2f}\\nFeatures kept: {}, r-squared training: {:.2f}, \\\n",
        "r-squared test: {:.2f}\\n'\n",
        "         .format(alpha, np.sum(linlasso.coef_ != 0), r2_train, r2_test))"
      ],
      "metadata": {
        "id": "wTLMV5VzTBZX",
        "outputId": "72a9fb22-ba3d-4691-fed4-2feed2991007",
        "colab": {
          "base_uri": "https://localhost:8080/"
        }
      },
      "execution_count": 123,
      "outputs": [
        {
          "output_type": "stream",
          "name": "stdout",
          "text": [
            "Lasso regression: effect of alpha regularization\n",
            "parameter on number of features kept in final model\n",
            "\n",
            "Alpha = 1.00\n",
            "Features kept: 1, r-squared training: 0.95, r-squared test: 0.95\n",
            "\n",
            "Alpha = 5.00\n",
            "Features kept: 1, r-squared training: 0.95, r-squared test: 0.95\n",
            "\n",
            "Alpha = 10.00\n",
            "Features kept: 1, r-squared training: 0.93, r-squared test: 0.94\n",
            "\n",
            "Alpha = 15.00\n",
            "Features kept: 1, r-squared training: 0.89, r-squared test: 0.90\n",
            "\n",
            "Alpha = 20.00\n",
            "Features kept: 1, r-squared training: 0.85, r-squared test: 0.85\n",
            "\n",
            "Alpha = 25.00\n",
            "Features kept: 1, r-squared training: 0.79, r-squared test: 0.77\n",
            "\n",
            "Alpha = 30.00\n",
            "Features kept: 1, r-squared training: 0.72, r-squared test: 0.67\n",
            "\n"
          ]
        }
      ]
    },
    {
      "cell_type": "code",
      "source": [
        "linlasso = Lasso(alpha=5.0, max_iter = 10000).fit(X_train, y_train)\n",
        "r2_train = linlasso.score(X_train, y_train)\n",
        "r2_test = linlasso.score(X_test, y_test)"
      ],
      "metadata": {
        "id": "2Byjt-fqUQ7P"
      },
      "execution_count": 147,
      "outputs": []
    },
    {
      "cell_type": "code",
      "source": [
        "plt.figure(figsize=(5,4))\n",
        "alphas = all_alphas\n",
        "plt.scatter(alphas, all_r2_train, marker= 'o', s=50, alpha=0.8)\n",
        "plt.scatter(alphas, all_r2_test, marker= 'x', s=50, alpha=0.8)\n",
        "plt.title('R2 Error Over Different Alphas')\n",
        "plt.xlabel('alpha values')\n",
        "plt.ylabel('r2 error')\n",
        "plt.show()"
      ],
      "metadata": {
        "id": "9-HMis-5XL_J",
        "outputId": "1430271a-9f75-42c4-aa29-41f7b07ebe6f",
        "colab": {
          "base_uri": "https://localhost:8080/",
          "height": 295
        }
      },
      "execution_count": 148,
      "outputs": [
        {
          "output_type": "display_data",
          "data": {
            "text/plain": [
              "<Figure size 360x288 with 1 Axes>"
            ],
            "image/png": "[encoded data removed]"
          },
          "metadata": {
            "needs_background": "light"
          }
        }
      ]
    },
    {
      "cell_type": "code",
      "source": [
        "# Plotting the regression line\n",
        "line = linlasso.coef_*X+linlasso.intercept_\n",
        "\n",
        "# Plotting for the test data\n",
        "plt.scatter(X, y)\n",
        "plt.plot(X, line ,color='red');\n",
        "plt.show()"
      ],
      "metadata": {
        "id": "NMmDaR9oXsIB",
        "outputId": "ee53e792-ce0c-47ed-c1e9-e96d7ad50b31",
        "colab": {
          "base_uri": "https://localhost:8080/",
          "height": 265
        }
      },
      "execution_count": 149,
      "outputs": [
        {
          "output_type": "display_data",
          "data": {
            "text/plain": [
              "<Figure size 432x288 with 1 Axes>"
            ],
            "image/png": "[encoded data removed]"
          },
          "metadata": {
            "needs_background": "light"
          }
        }
      ]
    },
    {
      "cell_type": "code",
      "source": [
        "y_pred =  linlasso.predict(X_test) # Predicting the scores"
      ],
      "metadata": {
        "id": "24VPJvDtYTEb"
      },
      "execution_count": 150,
      "outputs": []
    },
    {
      "cell_type": "code",
      "source": [
        "# Comparing Actual vs Predicted\n",
        "df = pd.DataFrame({'Actual': y_test, 'Predicted': y_pred})  \n",
        "df "
      ],
      "metadata": {
        "colab": {
          "base_uri": "https://localhost:8080/",
          "height": 206
        },
        "id": "3stpUVzGI0a5",
        "outputId": "6c4a9e1a-f6ea-4ba4-cdb1-9252f53f6390"
      },
      "execution_count": 151,
      "outputs": [
        {
          "output_type": "execute_result",
          "data": {
            "text/plain": [
              "   Actual  Predicted\n",
              "0      20  19.910818\n",
              "1      27  35.383174\n",
              "2      69  73.608993\n",
              "3      30  29.012204\n",
              "4      62  59.956914"
            ],
            "text/html": [
              "\n",
              "  <div id=\"df-d9f58fbc-0d18-46ca-9e66-de48c1973565\">\n",
              "    <div class=\"colab-df-container\">\n",
              "      <div>\n",
              "<style scoped>\n",
              "    .dataframe tbody tr th:only-of-type {\n",
              "        vertical-align: middle;\n",
              "    }\n",
              "\n",
              "    .dataframe tbody tr th {\n",
              "        vertical-align: top;\n",
              "    }\n",
              "\n",
              "    .dataframe thead th {\n",
              "        text-align: right;\n",
              "    }\n",
              "</style>\n",
              "<table border=\"1\" class=\"dataframe\">\n",
              "  <thead>\n",
              "    <tr style=\"text-align: right;\">\n",
              "      <th></th>\n",
              "      <th>Actual</th>\n",
              "      <th>Predicted</th>\n",
              "    </tr>\n",
              "  </thead>\n",
              "  <tbody>\n",
              "    <tr>\n",
              "      <th>0</th>\n",
              "      <td>20</td>\n",
              "      <td>19.910818</td>\n",
              "    </tr>\n",
              "    <tr>\n",
              "      <th>1</th>\n",
              "      <td>27</td>\n",
              "      <td>35.383174</td>\n",
              "    </tr>\n",
              "    <tr>\n",
              "      <th>2</th>\n",
              "      <td>69</td>\n",
              "      <td>73.608993</td>\n",
              "    </tr>\n",
              "    <tr>\n",
              "      <th>3</th>\n",
              "      <td>30</td>\n",
              "      <td>29.012204</td>\n",
              "    </tr>\n",
              "    <tr>\n",
              "      <th>4</th>\n",
              "      <td>62</td>\n",
              "      <td>59.956914</td>\n",
              "    </tr>\n",
              "  </tbody>\n",
              "</table>\n",
              "</div>\n",
              "      <button class=\"colab-df-convert\" onclick=\"convertToInteractive('df-d9f58fbc-0d18-46ca-9e66-de48c1973565')\"\n",
              "              title=\"Convert this dataframe to an interactive table.\"\n",
              "              style=\"display:none;\">\n",
              "        \n",
              "  <svg xmlns=\"http://www.w3.org/2000/svg\" height=\"24px\"viewBox=\"0 0 24 24\"\n",
              "       width=\"24px\">\n",
              "    <path d=\"M0 0h24v24H0V0z\" fill=\"none\"/>\n",
              "    <path d=\"M18.56 5.44l.94 2.06.94-2.06 2.06-.94-2.06-.94-.94-2.06-.94 2.06-2.06.94zm-11 1L8.5 8.5l.94-2.06 2.06-.94-2.06-.94L8.5 2.5l-.94 2.06-2.06.94zm10 10l.94 2.06.94-2.06 2.06-.94-2.06-.94-.94-2.06-.94 2.06-2.06.94z\"/><path d=\"M17.41 7.96l-1.37-1.37c-.4-.4-.92-.59-1.43-.59-.52 0-1.04.2-1.43.59L10.3 9.45l-7.72 7.72c-.78.78-.78 2.05 0 2.83L4 21.41c.39.39.9.59 1.41.59.51 0 1.02-.2 1.41-.59l7.78-7.78 2.81-2.81c.8-.78.8-2.07 0-2.86zM5.41 20L4 18.59l7.72-7.72 1.47 1.35L5.41 20z\"/>\n",
              "  </svg>\n",
              "      </button>\n",
              "      \n",
              "  <style>\n",
              "    .colab-df-container {\n",
              "      display:flex;\n",
              "      flex-wrap:wrap;\n",
              "      gap: 12px;\n",
              "    }\n",
              "\n",
              "    .colab-df-convert {\n",
              "      background-color: #E8F0FE;\n",
              "      border: none;\n",
              "      border-radius: 50%;\n",
              "      cursor: pointer;\n",
              "      display: none;\n",
              "      fill: #1967D2;\n",
              "      height: 32px;\n",
              "      padding: 0 0 0 0;\n",
              "      width: 32px;\n",
              "    }\n",
              "\n",
              "    .colab-df-convert:hover {\n",
              "      background-color: #E2EBFA;\n",
              "      box-shadow: 0px 1px 2px rgba(60, 64, 67, 0.3), 0px 1px 3px 1px rgba(60, 64, 67, 0.15);\n",
              "      fill: #174EA6;\n",
              "    }\n",
              "\n",
              "    [theme=dark] .colab-df-convert {\n",
              "      background-color: #3B4455;\n",
              "      fill: #D2E3FC;\n",
              "    }\n",
              "\n",
              "    [theme=dark] .colab-df-convert:hover {\n",
              "      background-color: #434B5C;\n",
              "      box-shadow: 0px 1px 3px 1px rgba(0, 0, 0, 0.15);\n",
              "      filter: drop-shadow(0px 1px 2px rgba(0, 0, 0, 0.3));\n",
              "      fill: #FFFFFF;\n",
              "    }\n",
              "  </style>\n",
              "\n",
              "      <script>\n",
              "        const buttonEl =\n",
              "          document.querySelector('#df-d9f58fbc-0d18-46ca-9e66-de48c1973565 button.colab-df-convert');\n",
              "        buttonEl.style.display =\n",
              "          google.colab.kernel.accessAllowed ? 'block' : 'none';\n",
              "\n",
              "        async function convertToInteractive(key) {\n",
              "          const element = document.querySelector('#df-d9f58fbc-0d18-46ca-9e66-de48c1973565');\n",
              "          const dataTable =\n",
              "            await google.colab.kernel.invokeFunction('convertToInteractive',\n",
              "                                                     [key], {});\n",
              "          if (!dataTable) return;\n",
              "\n",
              "          const docLinkHtml = 'Like what you see? Visit the ' +\n",
              "            '<a target=\"_blank\" href=https://colab.research.google.com/notebooks/data_table.ipynb>data table notebook</a>'\n",
              "            + ' to learn more about interactive tables.';\n",
              "          element.innerHTML = '';\n",
              "          dataTable['output_type'] = 'display_data';\n",
              "          await google.colab.output.renderOutput(dataTable, element);\n",
              "          const docLink = document.createElement('div');\n",
              "          docLink.innerHTML = docLinkHtml;\n",
              "          element.appendChild(docLink);\n",
              "        }\n",
              "      </script>\n",
              "    </div>\n",
              "  </div>\n",
              "  "
            ]
          },
          "metadata": {},
          "execution_count": 151
        }
      ]
    },
    {
      "cell_type": "code",
      "source": [
        "from sklearn import metrics  \n",
        "print('Mean Absolute Error:', \n",
        "      metrics.mean_absolute_error(y_test, y_pred)) "
      ],
      "metadata": {
        "colab": {
          "base_uri": "https://localhost:8080/"
        },
        "id": "AKonjoTBI7aR",
        "outputId": "708eaace-1137-4ad6-e2af-400e98cc28f9"
      },
      "execution_count": 152,
      "outputs": [
        {
          "output_type": "stream",
          "name": "stdout",
          "text": [
            "Mean Absolute Error: 3.2224459406966233\n"
          ]
        }
      ]
    },
    {
      "cell_type": "code",
      "source": [
        "# Plot outputs\n",
        "plt.scatter(X_test, y_test, color=\"black\")\n",
        "plt.plot(X_test, y_pred, color=\"blue\", linewidth=3)\n",
        "\n",
        "plt.xticks(())\n",
        "plt.yticks(())\n",
        "\n",
        "plt.show()"
      ],
      "metadata": {
        "colab": {
          "base_uri": "https://localhost:8080/",
          "height": 252
        },
        "id": "ySj72fRvI_T2",
        "outputId": "f5dc0f0f-8651-4ac7-bd97-c617c318f4aa"
      },
      "execution_count": 153,
      "outputs": [
        {
          "output_type": "display_data",
          "data": {
            "text/plain": [
              "<Figure size 432x288 with 1 Axes>"
            ],
            "image/png": "[encoded data removed]"
          },
          "metadata": {}
        }
      ]
    },
    {
      "cell_type": "code",
      "source": [
        "# You can also test with your own data\n",
        "hours = [[9.25]]\n",
        "own_pred = linlasso.predict(hours)\n",
        "print(\"No of Hours = {}\".format(hours))\n",
        "print(\"Predicted Score = {}\".format(own_pred[0]))"
      ],
      "metadata": {
        "colab": {
          "base_uri": "https://localhost:8080/"
        },
        "id": "W67g1j0TJNtd",
        "outputId": "a6e0e746-190d-4512-cd08-77e62b7fbbc1"
      },
      "execution_count": 154,
      "outputs": [
        {
          "output_type": "stream",
          "name": "stdout",
          "text": [
            "No of Hours = [[9.25]]\n",
            "Predicted Score = 90.4465557425871\n"
          ]
        }
      ]
    },
    {
      "cell_type": "code",
      "source": [],
      "metadata": {
        "id": "dA2J4PHYOaxz"
      },
      "execution_count": null,
      "outputs": []
    }
  ]
}